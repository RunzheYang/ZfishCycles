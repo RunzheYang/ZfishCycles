{
 "cells": [
  {
   "cell_type": "code",
   "execution_count": 1,
   "metadata": {},
   "outputs": [],
   "source": [
    "import networkx as nx\n",
    "import pandas as pd\n",
    "import numpy as np\n",
    "import graph_tool.all as gt\n",
    "\n",
    "from pyvis.network import Network\n",
    "import matplotlib.pyplot as plt\n",
    "import plotly.graph_objects as go\n",
    "import seaborn as sns\n",
    "from IPython.core.display import display\n",
    "from IPython.display import IFrame\n",
    "\n",
    "from utils.measure import *\n",
    "\n",
    "sns.set_context(\"talk\")"
   ]
  },
  {
   "cell_type": "markdown",
   "metadata": {},
   "source": [
    "### 1. Data Preparation"
   ]
  },
  {
   "cell_type": "code",
   "execution_count": 2,
   "metadata": {},
   "outputs": [],
   "source": [
    "from scipy.io import loadmat"
   ]
  },
  {
   "cell_type": "code",
   "execution_count": 3,
   "metadata": {},
   "outputs": [],
   "source": [
    "data_path = \"/usr/people/runzhey/seungmount/research/runzhey/ZfishModularity/data/df_cleaned.csv\"\n",
    "potential_connmat = pd.read_csv(data_path) "
   ]
  },
  {
   "cell_type": "code",
   "execution_count": 4,
   "metadata": {},
   "outputs": [
    {
     "data": {
      "text/html": [
       "<div>\n",
       "<style scoped>\n",
       "    .dataframe tbody tr th:only-of-type {\n",
       "        vertical-align: middle;\n",
       "    }\n",
       "\n",
       "    .dataframe tbody tr th {\n",
       "        vertical-align: top;\n",
       "    }\n",
       "\n",
       "    .dataframe thead th {\n",
       "        text-align: right;\n",
       "    }\n",
       "</style>\n",
       "<table border=\"1\" class=\"dataframe\">\n",
       "  <thead>\n",
       "    <tr style=\"text-align: right;\">\n",
       "      <th></th>\n",
       "      <th>psd_segid</th>\n",
       "      <th>BBOX_bx</th>\n",
       "      <th>BBOX_by</th>\n",
       "      <th>BBOX_bz</th>\n",
       "      <th>BBOX_ex</th>\n",
       "      <th>BBOX_ey</th>\n",
       "      <th>BBOX_ez</th>\n",
       "      <th>postsyn_sz</th>\n",
       "      <th>postsyn_wt</th>\n",
       "      <th>postsyn_x</th>\n",
       "      <th>...</th>\n",
       "      <th>presyn_wt</th>\n",
       "      <th>presyn_x</th>\n",
       "      <th>presyn_y</th>\n",
       "      <th>presyn_z</th>\n",
       "      <th>size</th>\n",
       "      <th>postsyn_segid</th>\n",
       "      <th>presyn_segid</th>\n",
       "      <th>centroid_x</th>\n",
       "      <th>centroid_y</th>\n",
       "      <th>centroid_z</th>\n",
       "    </tr>\n",
       "  </thead>\n",
       "  <tbody>\n",
       "    <tr>\n",
       "      <th>0</th>\n",
       "      <td>2</td>\n",
       "      <td>15037</td>\n",
       "      <td>20682</td>\n",
       "      <td>16656</td>\n",
       "      <td>15049</td>\n",
       "      <td>20719</td>\n",
       "      <td>16657</td>\n",
       "      <td>NaN</td>\n",
       "      <td>NaN</td>\n",
       "      <td>NaN</td>\n",
       "      <td>...</td>\n",
       "      <td>NaN</td>\n",
       "      <td>NaN</td>\n",
       "      <td>NaN</td>\n",
       "      <td>NaN</td>\n",
       "      <td>271</td>\n",
       "      <td>NaN</td>\n",
       "      <td>NaN</td>\n",
       "      <td>15043.0</td>\n",
       "      <td>20700.0</td>\n",
       "      <td>16656.0</td>\n",
       "    </tr>\n",
       "    <tr>\n",
       "      <th>1</th>\n",
       "      <td>3</td>\n",
       "      <td>15261</td>\n",
       "      <td>20788</td>\n",
       "      <td>16418</td>\n",
       "      <td>15290</td>\n",
       "      <td>20836</td>\n",
       "      <td>16419</td>\n",
       "      <td>NaN</td>\n",
       "      <td>NaN</td>\n",
       "      <td>NaN</td>\n",
       "      <td>...</td>\n",
       "      <td>NaN</td>\n",
       "      <td>NaN</td>\n",
       "      <td>NaN</td>\n",
       "      <td>NaN</td>\n",
       "      <td>253</td>\n",
       "      <td>NaN</td>\n",
       "      <td>NaN</td>\n",
       "      <td>15271.0</td>\n",
       "      <td>20811.0</td>\n",
       "      <td>16418.0</td>\n",
       "    </tr>\n",
       "    <tr>\n",
       "      <th>2</th>\n",
       "      <td>4</td>\n",
       "      <td>15358</td>\n",
       "      <td>20534</td>\n",
       "      <td>16389</td>\n",
       "      <td>15345</td>\n",
       "      <td>20527</td>\n",
       "      <td>16389</td>\n",
       "      <td>NaN</td>\n",
       "      <td>NaN</td>\n",
       "      <td>NaN</td>\n",
       "      <td>...</td>\n",
       "      <td>NaN</td>\n",
       "      <td>NaN</td>\n",
       "      <td>NaN</td>\n",
       "      <td>NaN</td>\n",
       "      <td>259</td>\n",
       "      <td>NaN</td>\n",
       "      <td>NaN</td>\n",
       "      <td>15360.0</td>\n",
       "      <td>20533.0</td>\n",
       "      <td>16390.0</td>\n",
       "    </tr>\n",
       "    <tr>\n",
       "      <th>3</th>\n",
       "      <td>6</td>\n",
       "      <td>14673</td>\n",
       "      <td>22039</td>\n",
       "      <td>16487</td>\n",
       "      <td>14678</td>\n",
       "      <td>22100</td>\n",
       "      <td>16488</td>\n",
       "      <td>NaN</td>\n",
       "      <td>NaN</td>\n",
       "      <td>NaN</td>\n",
       "      <td>...</td>\n",
       "      <td>NaN</td>\n",
       "      <td>NaN</td>\n",
       "      <td>NaN</td>\n",
       "      <td>NaN</td>\n",
       "      <td>240</td>\n",
       "      <td>NaN</td>\n",
       "      <td>NaN</td>\n",
       "      <td>14675.0</td>\n",
       "      <td>22070.0</td>\n",
       "      <td>16487.0</td>\n",
       "    </tr>\n",
       "    <tr>\n",
       "      <th>4</th>\n",
       "      <td>7</td>\n",
       "      <td>15346</td>\n",
       "      <td>22283</td>\n",
       "      <td>16492</td>\n",
       "      <td>15325</td>\n",
       "      <td>22272</td>\n",
       "      <td>16491</td>\n",
       "      <td>25234.0</td>\n",
       "      <td>0.727412</td>\n",
       "      <td>15359.0</td>\n",
       "      <td>...</td>\n",
       "      <td>0.569262</td>\n",
       "      <td>15315.0</td>\n",
       "      <td>22298.0</td>\n",
       "      <td>16500.0</td>\n",
       "      <td>944</td>\n",
       "      <td>266713.0</td>\n",
       "      <td>266721.0</td>\n",
       "      <td>15360.0</td>\n",
       "      <td>22276.0</td>\n",
       "      <td>16492.0</td>\n",
       "    </tr>\n",
       "    <tr>\n",
       "      <th>...</th>\n",
       "      <td>...</td>\n",
       "      <td>...</td>\n",
       "      <td>...</td>\n",
       "      <td>...</td>\n",
       "      <td>...</td>\n",
       "      <td>...</td>\n",
       "      <td>...</td>\n",
       "      <td>...</td>\n",
       "      <td>...</td>\n",
       "      <td>...</td>\n",
       "      <td>...</td>\n",
       "      <td>...</td>\n",
       "      <td>...</td>\n",
       "      <td>...</td>\n",
       "      <td>...</td>\n",
       "      <td>...</td>\n",
       "      <td>...</td>\n",
       "      <td>...</td>\n",
       "      <td>...</td>\n",
       "      <td>...</td>\n",
       "      <td>...</td>\n",
       "    </tr>\n",
       "    <tr>\n",
       "      <th>2029004</th>\n",
       "      <td>2720208</td>\n",
       "      <td>83783</td>\n",
       "      <td>43612</td>\n",
       "      <td>17610</td>\n",
       "      <td>83794</td>\n",
       "      <td>43645</td>\n",
       "      <td>17611</td>\n",
       "      <td>NaN</td>\n",
       "      <td>NaN</td>\n",
       "      <td>NaN</td>\n",
       "      <td>...</td>\n",
       "      <td>NaN</td>\n",
       "      <td>NaN</td>\n",
       "      <td>NaN</td>\n",
       "      <td>NaN</td>\n",
       "      <td>269</td>\n",
       "      <td>NaN</td>\n",
       "      <td>NaN</td>\n",
       "      <td>83787.0</td>\n",
       "      <td>43628.0</td>\n",
       "      <td>17610.0</td>\n",
       "    </tr>\n",
       "    <tr>\n",
       "      <th>2029005</th>\n",
       "      <td>2720210</td>\n",
       "      <td>83065</td>\n",
       "      <td>44257</td>\n",
       "      <td>17610</td>\n",
       "      <td>83109</td>\n",
       "      <td>44269</td>\n",
       "      <td>17611</td>\n",
       "      <td>NaN</td>\n",
       "      <td>NaN</td>\n",
       "      <td>NaN</td>\n",
       "      <td>...</td>\n",
       "      <td>NaN</td>\n",
       "      <td>NaN</td>\n",
       "      <td>NaN</td>\n",
       "      <td>NaN</td>\n",
       "      <td>329</td>\n",
       "      <td>NaN</td>\n",
       "      <td>NaN</td>\n",
       "      <td>83087.0</td>\n",
       "      <td>44262.0</td>\n",
       "      <td>17610.0</td>\n",
       "    </tr>\n",
       "    <tr>\n",
       "      <th>2029006</th>\n",
       "      <td>2720211</td>\n",
       "      <td>83279</td>\n",
       "      <td>44046</td>\n",
       "      <td>17563</td>\n",
       "      <td>83385</td>\n",
       "      <td>44096</td>\n",
       "      <td>17566</td>\n",
       "      <td>NaN</td>\n",
       "      <td>NaN</td>\n",
       "      <td>NaN</td>\n",
       "      <td>...</td>\n",
       "      <td>NaN</td>\n",
       "      <td>NaN</td>\n",
       "      <td>NaN</td>\n",
       "      <td>NaN</td>\n",
       "      <td>1800</td>\n",
       "      <td>NaN</td>\n",
       "      <td>NaN</td>\n",
       "      <td>83343.0</td>\n",
       "      <td>44073.0</td>\n",
       "      <td>17564.0</td>\n",
       "    </tr>\n",
       "    <tr>\n",
       "      <th>2029007</th>\n",
       "      <td>2720212</td>\n",
       "      <td>83428</td>\n",
       "      <td>44518</td>\n",
       "      <td>17630</td>\n",
       "      <td>83484</td>\n",
       "      <td>44532</td>\n",
       "      <td>17631</td>\n",
       "      <td>NaN</td>\n",
       "      <td>NaN</td>\n",
       "      <td>NaN</td>\n",
       "      <td>...</td>\n",
       "      <td>NaN</td>\n",
       "      <td>NaN</td>\n",
       "      <td>NaN</td>\n",
       "      <td>NaN</td>\n",
       "      <td>315</td>\n",
       "      <td>NaN</td>\n",
       "      <td>NaN</td>\n",
       "      <td>83458.0</td>\n",
       "      <td>44524.0</td>\n",
       "      <td>17630.0</td>\n",
       "    </tr>\n",
       "    <tr>\n",
       "      <th>2029008</th>\n",
       "      <td>2720213</td>\n",
       "      <td>83752</td>\n",
       "      <td>44415</td>\n",
       "      <td>17636</td>\n",
       "      <td>83771</td>\n",
       "      <td>44443</td>\n",
       "      <td>17637</td>\n",
       "      <td>NaN</td>\n",
       "      <td>NaN</td>\n",
       "      <td>NaN</td>\n",
       "      <td>...</td>\n",
       "      <td>NaN</td>\n",
       "      <td>NaN</td>\n",
       "      <td>NaN</td>\n",
       "      <td>NaN</td>\n",
       "      <td>329</td>\n",
       "      <td>NaN</td>\n",
       "      <td>NaN</td>\n",
       "      <td>83762.0</td>\n",
       "      <td>44427.0</td>\n",
       "      <td>17636.0</td>\n",
       "    </tr>\n",
       "  </tbody>\n",
       "</table>\n",
       "<p>2029009 rows × 23 columns</p>\n",
       "</div>"
      ],
      "text/plain": [
       "         psd_segid  BBOX_bx  BBOX_by  BBOX_bz  BBOX_ex  BBOX_ey  BBOX_ez  \\\n",
       "0                2    15037    20682    16656    15049    20719    16657   \n",
       "1                3    15261    20788    16418    15290    20836    16419   \n",
       "2                4    15358    20534    16389    15345    20527    16389   \n",
       "3                6    14673    22039    16487    14678    22100    16488   \n",
       "4                7    15346    22283    16492    15325    22272    16491   \n",
       "...            ...      ...      ...      ...      ...      ...      ...   \n",
       "2029004    2720208    83783    43612    17610    83794    43645    17611   \n",
       "2029005    2720210    83065    44257    17610    83109    44269    17611   \n",
       "2029006    2720211    83279    44046    17563    83385    44096    17566   \n",
       "2029007    2720212    83428    44518    17630    83484    44532    17631   \n",
       "2029008    2720213    83752    44415    17636    83771    44443    17637   \n",
       "\n",
       "         postsyn_sz  postsyn_wt  postsyn_x  ...  presyn_wt  presyn_x  \\\n",
       "0               NaN         NaN        NaN  ...        NaN       NaN   \n",
       "1               NaN         NaN        NaN  ...        NaN       NaN   \n",
       "2               NaN         NaN        NaN  ...        NaN       NaN   \n",
       "3               NaN         NaN        NaN  ...        NaN       NaN   \n",
       "4           25234.0    0.727412    15359.0  ...   0.569262   15315.0   \n",
       "...             ...         ...        ...  ...        ...       ...   \n",
       "2029004         NaN         NaN        NaN  ...        NaN       NaN   \n",
       "2029005         NaN         NaN        NaN  ...        NaN       NaN   \n",
       "2029006         NaN         NaN        NaN  ...        NaN       NaN   \n",
       "2029007         NaN         NaN        NaN  ...        NaN       NaN   \n",
       "2029008         NaN         NaN        NaN  ...        NaN       NaN   \n",
       "\n",
       "         presyn_y  presyn_z  size  postsyn_segid  presyn_segid  centroid_x  \\\n",
       "0             NaN       NaN   271            NaN           NaN     15043.0   \n",
       "1             NaN       NaN   253            NaN           NaN     15271.0   \n",
       "2             NaN       NaN   259            NaN           NaN     15360.0   \n",
       "3             NaN       NaN   240            NaN           NaN     14675.0   \n",
       "4         22298.0   16500.0   944       266713.0      266721.0     15360.0   \n",
       "...           ...       ...   ...            ...           ...         ...   \n",
       "2029004       NaN       NaN   269            NaN           NaN     83787.0   \n",
       "2029005       NaN       NaN   329            NaN           NaN     83087.0   \n",
       "2029006       NaN       NaN  1800            NaN           NaN     83343.0   \n",
       "2029007       NaN       NaN   315            NaN           NaN     83458.0   \n",
       "2029008       NaN       NaN   329            NaN           NaN     83762.0   \n",
       "\n",
       "         centroid_y  centroid_z  \n",
       "0           20700.0     16656.0  \n",
       "1           20811.0     16418.0  \n",
       "2           20533.0     16390.0  \n",
       "3           22070.0     16487.0  \n",
       "4           22276.0     16492.0  \n",
       "...             ...         ...  \n",
       "2029004     43628.0     17610.0  \n",
       "2029005     44262.0     17610.0  \n",
       "2029006     44073.0     17564.0  \n",
       "2029007     44524.0     17630.0  \n",
       "2029008     44427.0     17636.0  \n",
       "\n",
       "[2029009 rows x 23 columns]"
      ]
     },
     "execution_count": 4,
     "metadata": {},
     "output_type": "execute_result"
    }
   ],
   "source": [
    "potential_connmat"
   ]
  },
  {
   "cell_type": "code",
   "execution_count": 5,
   "metadata": {},
   "outputs": [],
   "source": [
    "modO = gt.load_graph(\"saved/gt-ax50-dd100-modO-sg.xml.gz\")"
   ]
  },
  {
   "cell_type": "code",
   "execution_count": 7,
   "metadata": {},
   "outputs": [
    {
     "data": {
      "text/plain": [
       "<Graph object, directed, with 223 vertices and 2725 edges, 22 internal vertex properties, 2 internal edge properties, at 0x7f1a74717278>"
      ]
     },
     "execution_count": 7,
     "metadata": {},
     "output_type": "execute_result"
    }
   ],
   "source": [
    "modO"
   ]
  },
  {
   "cell_type": "code",
   "execution_count": 6,
   "metadata": {},
   "outputs": [
    {
     "data": {
      "text/plain": [
       "(PropertyArray([0, 1, 2], dtype=int32), array([80, 70, 73]))"
      ]
     },
     "execution_count": 6,
     "metadata": {},
     "output_type": "execute_result"
    }
   ],
   "source": [
    "np.unique(modO.vp[\"modO_sg_3sbm\"].a, return_counts=True)"
   ]
  },
  {
   "cell_type": "markdown",
   "metadata": {},
   "source": [
    "### 2. Compute Potential Synapses"
   ]
  },
  {
   "cell_type": "code",
   "execution_count": 8,
   "metadata": {},
   "outputs": [],
   "source": [
    "modO_cells =  [modO.vp[\"cellid\"][v] for v in modO.vertices()]\n",
    "modO_resyn = potential_connmat[potential_connmat[\"presyn_segid\"].isin(modO_cells) \n",
    "                 & potential_connmat[\"postsyn_segid\"].isin(modO_cells)][[\"presyn_segid\", \"postsyn_segid\",\n",
    "                                                                         \"presyn_x\", \"presyn_y\", \"presyn_z\",\n",
    "                                                                        \"postsyn_x\", \"postsyn_y\", \"postsyn_z\"]]"
   ]
  },
  {
   "cell_type": "code",
   "execution_count": 13,
   "metadata": {},
   "outputs": [
    {
     "data": {
      "text/plain": [
       "2729"
      ]
     },
     "execution_count": 13,
     "metadata": {},
     "output_type": "execute_result"
    }
   ],
   "source": [
    "len(np.unique(modO_resyn[[\"presyn_segid\", \"postsyn_segid\"]], axis=0))"
   ]
  },
  {
   "cell_type": "code",
   "execution_count": 14,
   "metadata": {},
   "outputs": [],
   "source": [
    "resolution = np.array([0.005,0.005,0.045])"
   ]
  },
  {
   "cell_type": "code",
   "execution_count": 15,
   "metadata": {},
   "outputs": [],
   "source": [
    "modO_resyn[\"dist\"] = np.sqrt((((np.array(modO_resyn[[\"presyn_x\", \"presyn_y\", \"presyn_z\"]]) -\\\n",
    "    np.array(modO_resyn[[\"postsyn_x\", \"postsyn_y\", \"postsyn_z\"]])) * resolution)**2).sum(1))"
   ]
  },
  {
   "cell_type": "code",
   "execution_count": 359,
   "metadata": {},
   "outputs": [
    {
     "data": {
      "text/plain": [
       "4674"
      ]
     },
     "execution_count": 359,
     "metadata": {},
     "output_type": "execute_result"
    }
   ],
   "source": [
    "len(modO_resyn[\"dist\"])"
   ]
  },
  {
   "cell_type": "code",
   "execution_count": 19,
   "metadata": {},
   "outputs": [
    {
     "data": {
      "image/png": "[encoded data removed]",
      "text/plain": [
       "<Figure size 432x288 with 1 Axes>"
      ]
     },
     "metadata": {
      "needs_background": "light"
     },
     "output_type": "display_data"
    }
   ],
   "source": [
    "fig, ax = plt.subplots(1, 1, figsize=(6,4))\n",
    "sns.distplot(modO_resyn[\"dist\"])\n",
    "ax.set_xlabel(\"Real synapses distance (μm)\")\n",
    "plt.show()"
   ]
  },
  {
   "cell_type": "code",
   "execution_count": 27,
   "metadata": {},
   "outputs": [],
   "source": [
    "modO_pre_sites = potential_connmat[potential_connmat[\"presyn_segid\"].isin(modO_cells)][\n",
    "                    [\"presyn_segid\", \"presyn_x\", \"presyn_y\", \"presyn_z\"]]"
   ]
  },
  {
   "cell_type": "code",
   "execution_count": 29,
   "metadata": {},
   "outputs": [],
   "source": [
    "modO_post_sites = potential_connmat[potential_connmat[\"postsyn_segid\"].isin(modO_cells)][\n",
    "                    [\"postsyn_segid\", \"postsyn_x\", \"postsyn_y\", \"postsyn_z\"]]"
   ]
  },
  {
   "cell_type": "code",
   "execution_count": 56,
   "metadata": {},
   "outputs": [],
   "source": [
    "def get_pt_syn(modO_pre_sites, modO_post_sites, th=5):\n",
    "    modO_pt_syn = {}\n",
    "    for i, axon_site in modO_pre_sites.iterrows():\n",
    "        dist = np.sqrt((((np.array(modO_post_sites[[\"postsyn_x\", \"postsyn_y\", \"postsyn_z\"]]) - \\\n",
    "                 np.array(axon_site[[\"presyn_x\", \"presyn_y\", \"presyn_z\"]])) * resolution) ** 2).sum(1))\n",
    "        dist <= th\n",
    "        for post_id in modO_post_sites[\"postsyn_segid\"][dist <= th]:\n",
    "            if (int(axon_site[\"presyn_segid\"]), int(post_id)) in modO_pt_syn.keys():\n",
    "                modO_pt_syn[(int(axon_site[\"presyn_segid\"]), int(post_id))] += 1\n",
    "            else:\n",
    "                modO_pt_syn[(int(axon_site[\"presyn_segid\"]), int(post_id))] = 1\n",
    "    return modO_pt_syn"
   ]
  },
  {
   "cell_type": "code",
   "execution_count": 57,
   "metadata": {},
   "outputs": [],
   "source": [
    "modO_pt_syn_th5 = get_pt_syn(modO_pre_sites, modO_post_sites, th=5)"
   ]
  },
  {
   "cell_type": "code",
   "execution_count": 65,
   "metadata": {},
   "outputs": [],
   "source": [
    "import pickle\n",
    "with open(\"saved/mod_potential_syn_5um.pkl\", 'wb') as f:\n",
    "    pickle.dump(modO_pt_syn_th5, f)"
   ]
  },
  {
   "cell_type": "code",
   "execution_count": 67,
   "metadata": {},
   "outputs": [],
   "source": [
    "modO_pt_syn_th2 = get_pt_syn(modO_pre_sites, modO_post_sites, th=2)\n",
    "with open(\"saved/mod_potential_syn_2um.pkl\", 'wb') as f:\n",
    "    pickle.dump(modO_pt_syn_th2, f)"
   ]
  },
  {
   "cell_type": "code",
   "execution_count": 69,
   "metadata": {},
   "outputs": [],
   "source": [
    "modO_pt_syn_th10 = get_pt_syn(modO_pre_sites, modO_post_sites, th=10)\n",
    "with open(\"saved/mod_potential_syn_10um.pkl\", 'wb') as f:\n",
    "    pickle.dump(modO_pt_syn_th10, f)"
   ]
  },
  {
   "cell_type": "markdown",
   "metadata": {},
   "source": [
    "### 3. Get Block Structure"
   ]
  },
  {
   "cell_type": "code",
   "execution_count": 71,
   "metadata": {},
   "outputs": [],
   "source": [
    "g = gt.load_graph(\"saved/whole-label-ax50-dd100.xml.gz\")"
   ]
  },
  {
   "cell_type": "code",
   "execution_count": 72,
   "metadata": {},
   "outputs": [],
   "source": [
    "cellid2modOsbm = dict(zip(modO.vp[\"cellid\"].a, modO.vp[\"modO_sg_3sbm\"].a))\n",
    "\n",
    "vw = g.new_vertex_property(\"int32_t\")\n",
    "for i, v in enumerate(g.vertices()):\n",
    "    if g.vp[\"modO_sg\"][v] == True:\n",
    "        vw[v] = cellid2modOsbm[g.vp[\"cellid\"][v]]\n",
    "    else:\n",
    "        vw[v] = -1\n",
    "g.vp[\"modO_sg_3sbm\"] = vw"
   ]
  },
  {
   "cell_type": "code",
   "execution_count": 73,
   "metadata": {},
   "outputs": [],
   "source": [
    "def validate_syn_prob_MI(g, sbm_name, weight='#synapses', norm=True):\n",
    "    m = g.copy()\n",
    "\n",
    "    ew = m.new_edge_property(\"int32_t\")\n",
    "    for e in m.edges():\n",
    "        if weight:\n",
    "            ew[e] = m.ep[weight][e]\n",
    "        else:\n",
    "            ew[e] = 1\n",
    "\n",
    "    merge_g = gt.BlockState(m, B=len(m.get_vertices()), eweight=ew)\n",
    "\n",
    "    # merge source neurons\n",
    "    mclass = m.get_vertices()[gen_mask(m.vp['peripheral'].a == 0)]\n",
    "    fv = mclass[0]\n",
    "    # print(\"source\", fv)\n",
    "    for i, v in enumerate(m.vertices()):\n",
    "        if v in mclass and v != fv:\n",
    "            merge_g.merge_vertices(v, fv)\n",
    "\n",
    "    # merge sink-non-abd neurons\n",
    "    mclass = m.get_vertices()[gen_mask((m.vp['peripheral'].a == 1) & \n",
    "                                       (m.vp['celltype'].a == 15))]\n",
    "    abdi_fv = mclass[0]\n",
    "    for i, v in enumerate(m.vertices()):\n",
    "        if v in mclass and v != abdi_fv:\n",
    "            merge_g.merge_vertices(v, abdi_fv)\n",
    "        \n",
    "    # merge sink-abd neurons\n",
    "    mclass = m.get_vertices()[gen_mask((m.vp['peripheral'].a == 1) & \n",
    "                                       (m.vp['celltype'].a == 14))]\n",
    "    abdm_fv = mclass[0]\n",
    "    for i, v in enumerate(m.vertices()):\n",
    "        if v in mclass and v != abdm_fv:\n",
    "            merge_g.merge_vertices(v, abdm_fv)\n",
    "\n",
    "    # merge scc-0 neurons\n",
    "    mclass = m.get_vertices()[gen_mask(m.vp[sbm_name].a == 0)]\n",
    "    center_fv0 = mclass[0]\n",
    "    # print(\"center-0\", center_fv0)\n",
    "    for i, v in enumerate(m.vertices()):\n",
    "        if v in mclass and v != center_fv0:\n",
    "            merge_g.merge_vertices(v, center_fv0)\n",
    "\n",
    "    # merge scc-1 neurons\n",
    "    mclass = m.get_vertices()[gen_mask(m.vp[sbm_name].a == 1)]\n",
    "    center_fv1 = mclass[0]\n",
    "    # print(\"center-1\", center_fv1)\n",
    "    for i, v in enumerate(m.vertices()):\n",
    "        if v in mclass and v != center_fv1:\n",
    "            merge_g.merge_vertices(v, center_fv1)\n",
    "            \n",
    "    # merge scc-2 neurons\n",
    "    mclass = m.get_vertices()[gen_mask(m.vp[sbm_name].a == 2)]\n",
    "    center_fv2 = mclass[0]\n",
    "    for i, v in enumerate(m.vertices()):\n",
    "        if v in mclass and v != center_fv2:\n",
    "            merge_g.merge_vertices(v, center_fv2)\n",
    "\n",
    "    mg = merge_g.get_bg()\n",
    "    mg.ep[\"ers\"] = merge_g.get_ers()\n",
    "    mg.vp[\"nr\"] = merge_g.get_nr()\n",
    "\n",
    "    p_syn = mg.new_edge_property(\"float\")\n",
    "    for e in mg.edges():\n",
    "        if norm:\n",
    "            p_syn[e] = mg.ep[\"ers\"][e] / (mg.vp[\"nr\"][e.target()] * mg.vp[\"nr\"][e.source()])\n",
    "        else:\n",
    "            p_syn[e] = mg.ep[\"ers\"][e]\n",
    "    mg.ep[\"p_syn\"] = p_syn\n",
    "\n",
    "    A_mg = gt.adjacency(mg, weight=mg.ep[\"p_syn\"]).todense()\n",
    "\n",
    "    syn_prob_abd = A_mg[[abdm_fv,abdm_fv,abdm_fv,abdi_fv,abdi_fv,abdi_fv],\n",
    "                        [center_fv0,center_fv1,center_fv2,center_fv0,center_fv1,center_fv2]].reshape(2,3)\n",
    "    \n",
    "    syn_prob_block = A_mg[[center_fv0,center_fv0,center_fv0,center_fv1,center_fv1,center_fv1,center_fv2,center_fv2,center_fv2],\n",
    "                        [center_fv0,center_fv1,center_fv2,center_fv0,center_fv1,center_fv2,center_fv0,center_fv1,center_fv2]\n",
    "                         ].reshape(3,3)\n",
    "\n",
    "    return syn_prob_abd, syn_prob_block"
   ]
  },
  {
   "cell_type": "code",
   "execution_count": 74,
   "metadata": {},
   "outputs": [],
   "source": [
    "gen_mask = lambda x: np.array(x, dtype=\"bool\")"
   ]
  },
  {
   "cell_type": "code",
   "execution_count": 75,
   "metadata": {},
   "outputs": [],
   "source": [
    "syn_prob_abd, syn_prob_block = {}, {}\n",
    "names = ['sg']\n",
    "for k in names:\n",
    "    syn_prob_abd[k], syn_prob_block[k] = validate_syn_prob_MI(g, \"modO_{}_3sbm\".format(k),  weight='#synapses', norm=True)"
   ]
  },
  {
   "cell_type": "code",
   "execution_count": 140,
   "metadata": {},
   "outputs": [
    {
     "data": {
      "image/png": "[encoded data removed]",
      "text/plain": [
       "<Figure size 1152x360 with 2 Axes>"
      ]
     },
     "metadata": {
      "needs_background": "light"
     },
     "output_type": "display_data"
    }
   ],
   "source": [
    "fig, axs = plt.subplots(1,2, figsize=(16,5))\n",
    "params = {'mathtext.default': 'regular' }          \n",
    "plt.rcParams.update(params)\n",
    "for l, ax in enumerate(axs):\n",
    "    if l < 1:\n",
    "        ax.imshow(syn_prob_block['sg'], cmap=\"Greens\")\n",
    "        for i in range(3):\n",
    "            for j in range(3):\n",
    "                text = ax.text(j, i, \"{:.3f}\".format(syn_prob_block['sg'][i, j]),\n",
    "                               ha=\"center\", va=\"center\", color=\"y\", fontsize=24)\n",
    "        ax.set_xticks(range(3))\n",
    "        ax.set_xticklabels([\"$blockO_1$\", \"$blockO_2$\", \"$blockO_3$\"], fontsize=22)\n",
    "        ax.set_yticks(range(3))\n",
    "        ax.set_yticklabels([\"$blockO_1$\", \"$blockO_2$\", \"$blockO_3$\"], fontsize=22)\n",
    "        \n",
    "    else:\n",
    "        ax.imshow(syn_prob_abd['sg'], cmap=\"Greens\")\n",
    "        for i in range(2):\n",
    "            for j in range(3):\n",
    "                text = ax.text(j, i, \"{:.3f}\".format(syn_prob_abd['sg'][i, j]),\n",
    "                               ha=\"center\", va=\"center\", color=\"y\", fontsize=24)\n",
    "        ax.set_xticks(range(3))\n",
    "        ax.set_xticklabels([\"$blockO_1$\", \"$blockO_2$\", \"$blockO_3$\"], fontsize=22)\n",
    "        ax.set_yticks(range(2))\n",
    "        ax.set_yticklabels([\"$ABD_M$\", \"$ABD_I$\"], fontsize=22)\n",
    "\n",
    "plt.savefig(\"figures/paper/blockO123-output.pdf\",bbox_inches=\"tight\")"
   ]
  },
  {
   "cell_type": "code",
   "execution_count": 77,
   "metadata": {},
   "outputs": [
    {
     "data": {
      "text/plain": [
       "matrix([[0.07328125, 0.00982143, 0.20462329],\n",
       "        [0.09964286, 0.06673469, 0.08551859],\n",
       "        [0.00907534, 0.25068493, 0.05516983]])"
      ]
     },
     "execution_count": 77,
     "metadata": {},
     "output_type": "execute_result"
    }
   ],
   "source": [
    "syn_prob_block['sg']"
   ]
  },
  {
   "cell_type": "code",
   "execution_count": 81,
   "metadata": {},
   "outputs": [],
   "source": [
    "cell2modO = {}\n",
    "for i, cid in enumerate(modO.vp['cellid'].a):\n",
    "    cell2modO[cid] = modO.vp['modO_sg_3sbm'].a[i]"
   ]
  },
  {
   "cell_type": "code",
   "execution_count": 88,
   "metadata": {},
   "outputs": [],
   "source": [
    "mod_size = {}\n",
    "modid, cell_cnt = np.unique(modO.vp['modO_sg_3sbm'].a, return_counts=True)\n",
    "for i in modid:\n",
    "    mod_size[i] = cell_cnt[i]"
   ]
  },
  {
   "cell_type": "code",
   "execution_count": 89,
   "metadata": {},
   "outputs": [
    {
     "data": {
      "text/plain": [
       "{0: 80, 1: 70, 2: 73}"
      ]
     },
     "execution_count": 89,
     "metadata": {},
     "output_type": "execute_result"
    }
   ],
   "source": [
    "mod_size"
   ]
  },
  {
   "cell_type": "code",
   "execution_count": 112,
   "metadata": {},
   "outputs": [],
   "source": [
    "def get_block_matrix(modO_pt_syn_thx):\n",
    "    syn_prob_pt = np.zeros((3,3))\n",
    "    for pre, post in modO_pt_syn_thx.keys():\n",
    "        post_mod = cell2modO[post]\n",
    "        pre_mod = cell2modO[pre]\n",
    "        syn_prob_pt[post_mod, pre_mod] += modO_pt_syn_thx[(pre, post)] / (mod_size[pre_mod] \n",
    "                                                                              * mod_size[post_mod])\n",
    "    return syn_prob_pt"
   ]
  },
  {
   "cell_type": "code",
   "execution_count": 113,
   "metadata": {},
   "outputs": [],
   "source": [
    "syn_prob_pt_th2 = get_block_matrix(modO_pt_syn_th2)"
   ]
  },
  {
   "cell_type": "code",
   "execution_count": 142,
   "metadata": {},
   "outputs": [
    {
     "data": {
      "image/png": "[encoded data removed]",
      "text/plain": [
       "<Figure size 1152x360 with 1 Axes>"
      ]
     },
     "metadata": {
      "needs_background": "light"
     },
     "output_type": "display_data"
    }
   ],
   "source": [
    "fig, ax = plt.subplots(1,1, figsize=(16,5))\n",
    "ax.imshow(syn_prob_pt_th2, cmap=\"Greens\")\n",
    "for i in range(3):\n",
    "    for j in range(3):\n",
    "        text = ax.text(j, i, \"{:.4}\".format(syn_prob_pt_th2[i, j]),\n",
    "                       ha=\"center\", va=\"center\", color=(0.8,0.3,0), fontsize=24)\n",
    "ax.set_xticks(range(3))\n",
    "ax.set_xticklabels([\"$blockO_1$\", \"$blockO_2$\", \"$blockO_3$\"], fontsize=22)\n",
    "ax.set_yticks(range(3))\n",
    "ax.set_yticklabels([\"$blockO_1$\", \"$blockO_2$\", \"$blockO_3$\"], fontsize=22)\n",
    "plt.savefig(\"figures/paper/peter-blockO123-2um.pdf\",bbox_inches=\"tight\")"
   ]
  },
  {
   "cell_type": "code",
   "execution_count": 120,
   "metadata": {},
   "outputs": [],
   "source": [
    "syn_prob_pt_th5 = get_block_matrix(modO_pt_syn_th5)"
   ]
  },
  {
   "cell_type": "code",
   "execution_count": 145,
   "metadata": {},
   "outputs": [
    {
     "data": {
      "image/png": "[encoded data removed]",
      "text/plain": [
       "<Figure size 1080x360 with 1 Axes>"
      ]
     },
     "metadata": {
      "needs_background": "light"
     },
     "output_type": "display_data"
    }
   ],
   "source": [
    "fig, ax = plt.subplots(1,1, figsize=(15,5))\n",
    "ax.imshow(syn_prob_pt_th5, cmap=\"Greens\")\n",
    "for i in range(3):\n",
    "    for j in range(3):\n",
    "        text = ax.text(j, i, \"{:.4}\".format(syn_prob_pt_th5[i, j]),\n",
    "                       ha=\"center\", va=\"center\", color=(0.8,0.3,0), fontsize=24)\n",
    "ax.set_xticks(range(3))\n",
    "ax.set_xticklabels([\"$blockO_1$\", \"$blockO_2$\", \"$blockO_3$\"], fontsize=22)\n",
    "ax.set_yticks(range(3))\n",
    "ax.set_yticklabels([\"$blockO_1$\", \"$blockO_2$\", \"$blockO_3$\"], fontsize=22)\n",
    "plt.savefig(\"figures/paper/peter-blockO123-5um.pdf\",bbox_inches=\"tight\")"
   ]
  },
  {
   "cell_type": "code",
   "execution_count": 130,
   "metadata": {},
   "outputs": [],
   "source": [
    "syn_prob_pt_th10 = get_block_matrix(modO_pt_syn_th10)"
   ]
  },
  {
   "cell_type": "code",
   "execution_count": 146,
   "metadata": {},
   "outputs": [
    {
     "data": {
      "image/png": "[encoded data removed]",
      "text/plain": [
       "<Figure size 1080x360 with 1 Axes>"
      ]
     },
     "metadata": {
      "needs_background": "light"
     },
     "output_type": "display_data"
    }
   ],
   "source": [
    "fig, ax = plt.subplots(1,1, figsize=(15,5))\n",
    "ax.imshow(syn_prob_pt_th10, cmap=\"Greens\")\n",
    "for i in range(3):\n",
    "    for j in range(3):\n",
    "        text = ax.text(j, i, \"{:.4}\".format(syn_prob_pt_th10[i, j]),\n",
    "                       ha=\"center\", va=\"center\", color=(0.8,0.3,0), fontsize=24)\n",
    "ax.set_xticks(range(3))\n",
    "ax.set_xticklabels([\"$blockO_1$\", \"$blockO_2$\", \"$blockO_3$\"], fontsize=22)\n",
    "ax.set_yticks(range(3))\n",
    "ax.set_yticklabels([\"$blockO_1$\", \"$blockO_2$\", \"$blockO_3$\"], fontsize=22)\n",
    "plt.savefig(\"figures/paper/peter-blockO123-10um.pdf\",bbox_inches=\"tight\")"
   ]
  },
  {
   "cell_type": "markdown",
   "metadata": {},
   "source": [
    "### 4. Compute Potential Synapses in the Center Subgraph"
   ]
  },
  {
   "cell_type": "code",
   "execution_count": 149,
   "metadata": {},
   "outputs": [],
   "source": [
    "g = gt.load_graph(\"saved/whole-w-all-abd.xml.gz\")"
   ]
  },
  {
   "cell_type": "code",
   "execution_count": 358,
   "metadata": {},
   "outputs": [
    {
     "data": {
      "text/plain": [
       "41937"
      ]
     },
     "execution_count": 358,
     "metadata": {},
     "output_type": "execute_result"
    }
   ],
   "source": [
    "len(center_pt_syn_th2)"
   ]
  },
  {
   "cell_type": "code",
   "execution_count": 152,
   "metadata": {},
   "outputs": [],
   "source": [
    "center_cells = [g.vp[\"cellid\"][v] for v in g.vertices() if g.vp[\"center\"][v]]"
   ]
  },
  {
   "cell_type": "code",
   "execution_count": 154,
   "metadata": {},
   "outputs": [],
   "source": [
    "resolution = np.array([0.005,0.005,0.045])"
   ]
  },
  {
   "cell_type": "code",
   "execution_count": 155,
   "metadata": {},
   "outputs": [],
   "source": [
    "center_pre_sites = potential_connmat[potential_connmat[\"presyn_segid\"].isin(center_cells)][\n",
    "                    [\"presyn_segid\", \"presyn_x\", \"presyn_y\", \"presyn_z\"]]"
   ]
  },
  {
   "cell_type": "code",
   "execution_count": 156,
   "metadata": {},
   "outputs": [],
   "source": [
    "center_post_sites = potential_connmat[potential_connmat[\"postsyn_segid\"].isin(center_cells)][\n",
    "                    [\"postsyn_segid\", \"postsyn_x\", \"postsyn_y\", \"postsyn_z\"]]"
   ]
  },
  {
   "cell_type": "code",
   "execution_count": 196,
   "metadata": {},
   "outputs": [],
   "source": [
    "rs_cells = [g.vp[\"cellid\"][v] for v in g.vertices() if g.vp[\"large_rs\"][v]]"
   ]
  },
  {
   "cell_type": "code",
   "execution_count": 197,
   "metadata": {},
   "outputs": [],
   "source": [
    "abd_cells = [g.vp[\"cellid\"][v] for v in g.vertices() if g.vp[\"celltype\"][v] in [14,15]]"
   ]
  },
  {
   "cell_type": "code",
   "execution_count": 199,
   "metadata": {},
   "outputs": [],
   "source": [
    "abd_rs_cells = abd_cells + rs_cells"
   ]
  },
  {
   "cell_type": "code",
   "execution_count": 200,
   "metadata": {},
   "outputs": [],
   "source": [
    "abd_rs_post_sites = potential_connmat[potential_connmat[\"postsyn_segid\"].isin(abd_rs_cells)][\n",
    "                    [\"postsyn_segid\", \"postsyn_x\", \"postsyn_y\", \"postsyn_z\"]]"
   ]
  },
  {
   "cell_type": "code",
   "execution_count": 157,
   "metadata": {},
   "outputs": [],
   "source": [
    "center_pt_syn_th5 = get_pt_syn(center_pre_sites, center_post_sites, th=5)"
   ]
  },
  {
   "cell_type": "code",
   "execution_count": 158,
   "metadata": {},
   "outputs": [],
   "source": [
    "import pickle\n",
    "with open(\"saved/center_potential_syn_5um.pkl\", 'wb') as f:\n",
    "    pickle.dump(center_pt_syn_th5, f)"
   ]
  },
  {
   "cell_type": "code",
   "execution_count": 159,
   "metadata": {},
   "outputs": [],
   "source": [
    "center_pt_syn_th2 = get_pt_syn(center_pre_sites, center_post_sites, th=2)\n",
    "with open(\"saved/center_potential_syn_2um.pkl\", 'wb') as f:\n",
    "    pickle.dump(center_pt_syn_th2, f)"
   ]
  },
  {
   "cell_type": "code",
   "execution_count": 160,
   "metadata": {},
   "outputs": [],
   "source": [
    "center_pt_syn_th10 = get_pt_syn(center_pre_sites, center_post_sites, th=10)\n",
    "with open(\"saved/center_potential_syn_10um.pkl\", 'wb') as f:\n",
    "    pickle.dump(center_pt_syn_th10, f)"
   ]
  },
  {
   "cell_type": "code",
   "execution_count": 201,
   "metadata": {},
   "outputs": [],
   "source": [
    "abd_rs_pt_syn_th5 = get_pt_syn(center_pre_sites, abd_rs_post_sites, th=5)"
   ]
  },
  {
   "cell_type": "code",
   "execution_count": 202,
   "metadata": {},
   "outputs": [],
   "source": [
    "import pickle\n",
    "with open(\"saved/abd_rs_potential_syn_5um.pkl\", 'wb') as f:\n",
    "    pickle.dump(abd_rs_pt_syn_th5, f)"
   ]
  },
  {
   "cell_type": "code",
   "execution_count": 203,
   "metadata": {},
   "outputs": [],
   "source": [
    "abd_rs_pt_syn_th2 = get_pt_syn(center_pre_sites, abd_rs_post_sites, th=2)\n",
    "with open(\"saved/abd_rs_potential_syn_2um.pkl\", 'wb') as f:\n",
    "    pickle.dump(abd_rs_pt_syn_th2, f)"
   ]
  },
  {
   "cell_type": "code",
   "execution_count": 204,
   "metadata": {},
   "outputs": [],
   "source": [
    "abd_rs_pt_syn_th10 = get_pt_syn(center_pre_sites, abd_rs_post_sites, th=10)\n",
    "with open(\"saved/abd_rs_potential_syn_10um.pkl\", 'wb') as f:\n",
    "    pickle.dump(abd_rs_pt_syn_th10, f)"
   ]
  },
  {
   "cell_type": "code",
   "execution_count": 161,
   "metadata": {},
   "outputs": [],
   "source": [
    "cell2OA = {g.vp[\"cellid\"][v]:g.vp[\"sbm_sg\"][v] for v in g.vertices() if g.vp[\"center\"][v]}"
   ]
  },
  {
   "cell_type": "code",
   "execution_count": 173,
   "metadata": {},
   "outputs": [],
   "source": [
    "_, mod_size_OA = np.unique(list(cell2OA.values()), return_counts=True)"
   ]
  },
  {
   "cell_type": "code",
   "execution_count": 174,
   "metadata": {},
   "outputs": [
    {
     "data": {
      "text/plain": [
       "array([223, 196])"
      ]
     },
     "execution_count": 174,
     "metadata": {},
     "output_type": "execute_result"
    }
   ],
   "source": [
    "mod_size_OA"
   ]
  },
  {
   "cell_type": "code",
   "execution_count": 374,
   "metadata": {},
   "outputs": [],
   "source": [
    "def get_block_matrix_OA(modO_pt_syn_thx):\n",
    "    syn_prob_pt = np.zeros((2,2))\n",
    "    for pre, post in modO_pt_syn_thx.keys():\n",
    "        post_mod = cell2OA[post]\n",
    "        pre_mod = cell2OA[pre]\n",
    "        syn_prob_pt[post_mod, pre_mod] += modO_pt_syn_thx[(pre, post)] / (mod_size_OA[pre_mod] \n",
    "                                                                              * mod_size_OA[post_mod])\n",
    "#         syn_prob_pt[post_mod, pre_mod] += modO_pt_syn_thx[(pre, post)]\n",
    "    return syn_prob_pt"
   ]
  },
  {
   "cell_type": "code",
   "execution_count": 375,
   "metadata": {},
   "outputs": [],
   "source": [
    "center_syn_prob_pt_th2 = get_block_matrix_OA(center_pt_syn_th2)"
   ]
  },
  {
   "cell_type": "code",
   "execution_count": 376,
   "metadata": {},
   "outputs": [
    {
     "data": {
      "text/plain": [
       "[Text(0, 0, '$modO$'), Text(0, 1, '$modA$')]"
      ]
     },
     "execution_count": 376,
     "metadata": {},
     "output_type": "execute_result"
    },
    {
     "data": {
      "image/png": "[encoded data removed]",
      "text/plain": [
       "<Figure size 1152x360 with 1 Axes>"
      ]
     },
     "metadata": {
      "needs_background": "light"
     },
     "output_type": "display_data"
    }
   ],
   "source": [
    "fig, ax = plt.subplots(1,1, figsize=(16,5))\n",
    "ax.imshow(center_syn_prob_pt_th2, cmap=\"Greens\")\n",
    "for i in range(2):\n",
    "    for j in range(2):\n",
    "        text = ax.text(j, i, \"{:.4}\".format(center_syn_prob_pt_th2[i, j]),\n",
    "                       ha=\"center\", va=\"center\", color=(0.8,0.3,0), fontsize=24)\n",
    "ax.set_xticks(range(2))\n",
    "ax.set_xticklabels([\"$modO$\", \"$modA$\"], fontsize=22)\n",
    "ax.set_yticks(range(2))\n",
    "ax.set_yticklabels([\"$modO$\", \"$modA$\"], fontsize=22)\n",
    "# plt.savefig(\"figures/paper/peter-blockO123-2um.pdf\",bbox_inches=\"tight\")"
   ]
  },
  {
   "cell_type": "code",
   "execution_count": 377,
   "metadata": {},
   "outputs": [],
   "source": [
    "center_syn_prob_pt_th5 = get_block_matrix_OA(center_pt_syn_th5)"
   ]
  },
  {
   "cell_type": "code",
   "execution_count": 378,
   "metadata": {},
   "outputs": [
    {
     "data": {
      "text/plain": [
       "[Text(0, 0, '$modO$'), Text(0, 1, '$modA$')]"
      ]
     },
     "execution_count": 378,
     "metadata": {},
     "output_type": "execute_result"
    },
    {
     "data": {
      "image/png": "[encoded data removed]",
      "text/plain": [
       "<Figure size 1152x360 with 1 Axes>"
      ]
     },
     "metadata": {
      "needs_background": "light"
     },
     "output_type": "display_data"
    }
   ],
   "source": [
    "fig, ax = plt.subplots(1,1, figsize=(16,5))\n",
    "ax.imshow(center_syn_prob_pt_th5, cmap=\"Greens\")\n",
    "for i in range(2):\n",
    "    for j in range(2):\n",
    "        text = ax.text(j, i, \"{:.4}\".format(center_syn_prob_pt_th5[i, j]),\n",
    "                       ha=\"center\", va=\"center\", color=(0.8,0.3,0), fontsize=24)\n",
    "ax.set_xticks(range(2))\n",
    "ax.set_xticklabels([\"$modO$\", \"$modA$\"], fontsize=22)\n",
    "ax.set_yticks(range(2))\n",
    "ax.set_yticklabels([\"$modO$\", \"$modA$\"], fontsize=22)\n",
    "# plt.savefig(\"figures/paper/peter-blockO123-2um.pdf\",bbox_inches=\"tight\")"
   ]
  },
  {
   "cell_type": "code",
   "execution_count": 379,
   "metadata": {},
   "outputs": [],
   "source": [
    "center_syn_prob_pt_th10 = get_block_matrix_OA(center_pt_syn_th10)"
   ]
  },
  {
   "cell_type": "code",
   "execution_count": 380,
   "metadata": {},
   "outputs": [
    {
     "data": {
      "text/plain": [
       "[Text(0, 0, '$modO$'), Text(0, 1, '$modA$')]"
      ]
     },
     "execution_count": 380,
     "metadata": {},
     "output_type": "execute_result"
    },
    {
     "data": {
      "image/png": "[encoded data removed]",
      "text/plain": [
       "<Figure size 1152x360 with 1 Axes>"
      ]
     },
     "metadata": {
      "needs_background": "light"
     },
     "output_type": "display_data"
    }
   ],
   "source": [
    "fig, ax = plt.subplots(1,1, figsize=(16,5))\n",
    "ax.imshow(center_syn_prob_pt_th10, cmap=\"Greens\")\n",
    "for i in range(2):\n",
    "    for j in range(2):\n",
    "        text = ax.text(j, i, \"{:.4}\".format(center_syn_prob_pt_th10[i, j]),\n",
    "                       ha=\"center\", va=\"center\", color=(0.8,0.3,0), fontsize=24)\n",
    "ax.set_xticks(range(2))\n",
    "ax.set_xticklabels([\"$modO$\", \"$modA$\"], fontsize=22)\n",
    "ax.set_yticks(range(2))\n",
    "ax.set_yticklabels([\"$modO$\", \"$modA$\"], fontsize=22)\n",
    "# plt.savefig(\"figures/paper/peter-blockO123-2um.pdf\",bbox_inches=\"tight\")"
   ]
  },
  {
   "cell_type": "code",
   "execution_count": 190,
   "metadata": {},
   "outputs": [],
   "source": [
    "gen_mask = lambda x: np.array(x, dtype=\"bool\")"
   ]
  },
  {
   "cell_type": "code",
   "execution_count": 191,
   "metadata": {},
   "outputs": [],
   "source": [
    "def validate_syn_prob(g, sbm_name, weight='#synapses', norm=True, RS=False):\n",
    "    m = g.copy()\n",
    "\n",
    "    ew = m.new_edge_property(\"int32_t\")\n",
    "    for e in m.edges():\n",
    "        if weight:\n",
    "            ew[e] = m.ep[weight][e]\n",
    "        else:\n",
    "            ew[e] = 1\n",
    "\n",
    "    merge_g = gt.BlockState(m, B=len(m.get_vertices()), eweight=ew)\n",
    "\n",
    "    # merge source neurons\n",
    "    mclass = m.get_vertices()[gen_mask(m.vp['peripheral'].a == 0)]\n",
    "    fv = mclass[0]\n",
    "    # print(\"source\", fv)\n",
    "    for i, v in enumerate(m.vertices()):\n",
    "        if v in mclass and v != fv:\n",
    "            merge_g.merge_vertices(v, fv)\n",
    "\n",
    "    # merge sink-non-abd neurons\n",
    "    if RS:\n",
    "        mclass = m.get_vertices()[gen_mask((m.vp['peripheral'].a == 1) & \n",
    "                                       (m.vp['large_rs'].a == True))]\n",
    "    else:\n",
    "        mclass = m.get_vertices()[gen_mask((m.vp['peripheral'].a == 1) & \n",
    "                                       (m.vp['celltype'].a != 14) &\n",
    "                                       (m.vp['celltype'].a != 15))]\n",
    "    non_abd_fv = mclass[0]\n",
    "    # print(\"sink-non-abd\", non_abd_fv)\n",
    "    for i, v in enumerate(m.vertices()):\n",
    "        if v in mclass and v != non_abd_fv:\n",
    "            merge_g.merge_vertices(v, non_abd_fv)\n",
    "        \n",
    "    # merge sink-abd neurons\n",
    "    mclass = m.get_vertices()[gen_mask((m.vp['peripheral'].a == 1) & \n",
    "                                   ((m.vp['celltype'].a == 14) |\n",
    "                                   (m.vp['celltype'].a == 15)))]\n",
    "    abd_fv = mclass[0]\n",
    "    # print(\"sink-abd\", abd_fv)\n",
    "    for i, v in enumerate(m.vertices()):\n",
    "        if v in mclass and v != abd_fv:\n",
    "            merge_g.merge_vertices(v, abd_fv)\n",
    "\n",
    "    # merge scc-0 neurons\n",
    "    mclass = m.get_vertices()[gen_mask(m.vp[sbm_name].a == 0)]\n",
    "    center_fv0 = mclass[0]\n",
    "    # print(\"center-0\", center_fv0)\n",
    "    for i, v in enumerate(m.vertices()):\n",
    "        if v in mclass and v != center_fv0:\n",
    "            merge_g.merge_vertices(v, center_fv0)\n",
    "\n",
    "    # merge scc-1 neurons\n",
    "    mclass = m.get_vertices()[gen_mask(m.vp[sbm_name].a == 1)]\n",
    "    center_fv1 = mclass[0]\n",
    "    # print(\"center-1\", center_fv1)\n",
    "    for i, v in enumerate(m.vertices()):\n",
    "        if v in mclass and v != center_fv1:\n",
    "            merge_g.merge_vertices(v, center_fv1)\n",
    "\n",
    "    mg = merge_g.get_bg()\n",
    "    mg.ep[\"ers\"] = merge_g.get_ers()\n",
    "    mg.vp[\"nr\"] = merge_g.get_nr()\n",
    "\n",
    "    p_syn = mg.new_edge_property(\"float\")\n",
    "    for e in mg.edges():\n",
    "        if norm:\n",
    "            p_syn[e] = mg.ep[\"ers\"][e] / (mg.vp[\"nr\"][e.target()] * mg.vp[\"nr\"][e.source()])\n",
    "        else:\n",
    "            p_syn[e] = mg.ep[\"ers\"][e]\n",
    "    mg.ep[\"p_syn\"] = p_syn\n",
    "\n",
    "    A_mg = gt.adjacency(mg, weight=mg.ep[\"p_syn\"]).todense()\n",
    "\n",
    "    syn_prob_abd = A_mg[[abd_fv,abd_fv,non_abd_fv,non_abd_fv],\n",
    "                        [center_fv0,center_fv1,center_fv0,center_fv1]].reshape(2,2)\n",
    "    \n",
    "    syn_prob_block = A_mg[[center_fv0,center_fv0,center_fv1,center_fv1],\n",
    "                        [center_fv0,center_fv1,center_fv0,center_fv1]].reshape(2,2)\n",
    "\n",
    "    return syn_prob_abd, syn_prob_block"
   ]
  },
  {
   "cell_type": "code",
   "execution_count": 192,
   "metadata": {},
   "outputs": [],
   "source": [
    "syn_prob_abd, syn_prob_block = {}, {}\n",
    "names = ['sg_nd', 'mg_c', 'sg', 'wc_c', 'sc_c']\n",
    "for k in names:\n",
    "    syn_prob_abd[k], syn_prob_block[k] = validate_syn_prob(g, \"sbm_{}\".format(k),  weight='#synapses', norm=True, RS=True)"
   ]
  },
  {
   "cell_type": "code",
   "execution_count": 206,
   "metadata": {},
   "outputs": [],
   "source": [
    "# abd_cells"
   ]
  },
  {
   "cell_type": "code",
   "execution_count": 207,
   "metadata": {},
   "outputs": [],
   "source": [
    "cell2ABD_RS = {c:0 if c in abd_cells else 1 for c in abd_rs_cells}"
   ]
  },
  {
   "cell_type": "code",
   "execution_count": 208,
   "metadata": {},
   "outputs": [],
   "source": [
    "_, mod_size_ABD_RS = np.unique(list(cell2ABD_RS.values()), return_counts=True)"
   ]
  },
  {
   "cell_type": "code",
   "execution_count": 209,
   "metadata": {},
   "outputs": [
    {
     "data": {
      "text/plain": [
       "array([54,  4])"
      ]
     },
     "execution_count": 209,
     "metadata": {},
     "output_type": "execute_result"
    }
   ],
   "source": [
    "mod_size_ABD_RS"
   ]
  },
  {
   "cell_type": "code",
   "execution_count": 210,
   "metadata": {},
   "outputs": [],
   "source": [
    "def get_block_matrix_ABD_RS(modO_pt_syn_thx):\n",
    "    syn_prob_pt = np.zeros((2,2))\n",
    "    for pre, post in modO_pt_syn_thx.keys():\n",
    "        post_mod = cell2ABD_RS[post]\n",
    "        pre_mod = cell2OA[pre]\n",
    "        syn_prob_pt[post_mod, pre_mod] += modO_pt_syn_thx[(pre, post)] / (mod_size_OA[pre_mod] \n",
    "                                                                              * mod_size_ABD_RS[post_mod])\n",
    "    return syn_prob_pt"
   ]
  },
  {
   "cell_type": "code",
   "execution_count": 211,
   "metadata": {},
   "outputs": [],
   "source": [
    "abd_rs_syn_prob_pt_th2 = get_block_matrix_ABD_RS(abd_rs_pt_syn_th2)"
   ]
  },
  {
   "cell_type": "code",
   "execution_count": 213,
   "metadata": {},
   "outputs": [],
   "source": [
    "abd_rs_syn_prob_pt_th5 = get_block_matrix_ABD_RS(abd_rs_pt_syn_th5)\n",
    "abd_rs_syn_prob_pt_th10 = get_block_matrix_ABD_RS(abd_rs_pt_syn_th10)"
   ]
  },
  {
   "cell_type": "code",
   "execution_count": 212,
   "metadata": {},
   "outputs": [
    {
     "data": {
      "text/plain": [
       "[Text(0, 0, '$ABD$'), Text(0, 1, '$RS$')]"
      ]
     },
     "execution_count": 212,
     "metadata": {},
     "output_type": "execute_result"
    },
    {
     "data": {
      "image/png": "[encoded data removed]",
      "text/plain": [
       "<Figure size 1152x360 with 1 Axes>"
      ]
     },
     "metadata": {
      "needs_background": "light"
     },
     "output_type": "display_data"
    }
   ],
   "source": [
    "fig, ax = plt.subplots(1,1, figsize=(16,5))\n",
    "ax.imshow(abd_rs_syn_prob_pt_th2, cmap=\"Greens\")\n",
    "for i in range(2):\n",
    "    for j in range(2):\n",
    "        text = ax.text(j, i, \"{:.4}\".format(abd_rs_syn_prob_pt_th2[i, j]),\n",
    "                       ha=\"center\", va=\"center\", color=(0.8,0.3,0), fontsize=24)\n",
    "ax.set_xticks(range(2))\n",
    "ax.set_xticklabels([\"$modO$\", \"$modA$\"], fontsize=22)\n",
    "ax.set_yticks(range(2))\n",
    "ax.set_yticklabels([\"$ABD$\", \"$RS$\"], fontsize=22)\n",
    "# plt.savefig(\"figures/paper/peter-blockO123-2um.pdf\",bbox_inches=\"tight\")"
   ]
  },
  {
   "cell_type": "code",
   "execution_count": 269,
   "metadata": {},
   "outputs": [
    {
     "data": {
      "text/plain": [
       "[Text(0, 0, '$ABD$'), Text(0, 1, '$RS$')]"
      ]
     },
     "execution_count": 269,
     "metadata": {},
     "output_type": "execute_result"
    },
    {
     "data": {
      "image/png": "[encoded data removed]",
      "text/plain": [
       "<Figure size 1152x360 with 1 Axes>"
      ]
     },
     "metadata": {
      "needs_background": "light"
     },
     "output_type": "display_data"
    }
   ],
   "source": [
    "fig, ax = plt.subplots(1,1, figsize=(16,5))\n",
    "ax.imshow(abd_rs_syn_prob_pt_th5, cmap=\"Greens\")\n",
    "for i in range(2):\n",
    "    for j in range(2):\n",
    "        text = ax.text(j, i, \"{:.4}\".format(abd_rs_syn_prob_pt_th5[i, j]),\n",
    "                       ha=\"center\", va=\"center\", color=(0.8,0.3,0), fontsize=24)\n",
    "ax.set_xticks(range(2))\n",
    "ax.set_xticklabels([\"$modO$\", \"$modA$\"], fontsize=22)\n",
    "ax.set_yticks(range(2))\n",
    "ax.set_yticklabels([\"$ABD$\", \"$RS$\"], fontsize=22)\n",
    "# plt.savefig(\"figures/paper/peter-blockO123-2um.pdf\",bbox_inches=\"tight\")"
   ]
  },
  {
   "cell_type": "code",
   "execution_count": 277,
   "metadata": {},
   "outputs": [
    {
     "data": {
      "text/plain": [
       "[Text(0, 0, '$ABD$'), Text(0, 1, '$RS$')]"
      ]
     },
     "execution_count": 277,
     "metadata": {},
     "output_type": "execute_result"
    },
    {
     "data": {
      "image/png": "[encoded data removed]",
      "text/plain": [
       "<Figure size 1152x360 with 1 Axes>"
      ]
     },
     "metadata": {
      "needs_background": "light"
     },
     "output_type": "display_data"
    }
   ],
   "source": [
    "fig, ax = plt.subplots(1,1, figsize=(16,5))\n",
    "ax.imshow(abd_rs_syn_prob_pt_th10, cmap=\"Greens\")\n",
    "for i in range(2):\n",
    "    for j in range(2):\n",
    "        text = ax.text(j, i, \"{:.2}\".format(abd_rs_syn_prob_pt_th10[i, j]),\n",
    "                       ha=\"center\", va=\"center\", color=(0.8,0.3,0), fontsize=24)\n",
    "ax.set_xticks(range(2))\n",
    "ax.set_xticklabels([\"$modO$\", \"$modA$\"], fontsize=22)\n",
    "ax.set_yticks(range(2))\n",
    "ax.set_yticklabels([\"$ABD$\", \"$RS$\"], fontsize=22)\n",
    "# plt.savefig(\"figures/paper/peter-blockO123-2um.pdf\",bbox_inches=\"tight\")"
   ]
  },
  {
   "cell_type": "code",
   "execution_count": 186,
   "metadata": {},
   "outputs": [],
   "source": [
    "def iir(m):\n",
    "    return (m[0,0] + m[1,1])/(m[1,0]+m[0,1])"
   ]
  },
  {
   "cell_type": "code",
   "execution_count": 221,
   "metadata": {},
   "outputs": [],
   "source": [
    "def abd_s(m):\n",
    "    return m[0,0]/m[0,1]\n",
    "\n",
    "def rs_s(m):\n",
    "    return m[1,1]/m[1,0]\n",
    "\n",
    "def modO_s(m):\n",
    "    return m[0,0]/m[1,0]\n",
    "\n",
    "def modA_s(m):\n",
    "    return m[1,1]/m[0,1]"
   ]
  },
  {
   "cell_type": "code",
   "execution_count": 382,
   "metadata": {},
   "outputs": [
    {
     "data": {
      "text/plain": [
       "[7.018421425891471, 4.797454055401937, 3.5183332518170785, 2.469615659502861]"
      ]
     },
     "execution_count": 382,
     "metadata": {},
     "output_type": "execute_result"
    }
   ],
   "source": [
    "[iir(m) for m in [syn_prob_block['sg'], center_syn_prob_pt_th2, \n",
    "                 center_syn_prob_pt_th5, center_syn_prob_pt_th10]]"
   ]
  },
  {
   "cell_type": "code",
   "execution_count": 383,
   "metadata": {},
   "outputs": [
    {
     "data": {
      "image/png": "[encoded data removed]",
      "text/plain": [
       "<Figure size 252x360 with 1 Axes>"
      ]
     },
     "metadata": {
      "needs_background": "light"
     },
     "output_type": "display_data"
    }
   ],
   "source": [
    "fig, ax = plt.subplots(1,1,figsize=(3.5,5))\n",
    "ax.plot([iir(m) for m in [syn_prob_block['sg'], center_syn_prob_pt_th2, \n",
    "                 center_syn_prob_pt_th5, center_syn_prob_pt_th10]], color='k', marker='o',\n",
    "                 markersize=14)\n",
    "ax.set_xticks(range(4))\n",
    "ax.set_xticklabels([\"true\",\"2μm\",\"5μm\",\"10μm\"], fontsize=22)\n",
    "ax.set_ylim([0,7.3])\n",
    "ax.set_ylabel(\"Intra/inter ratio of \\nnormalized synapses count\", fontsize=22)\n",
    "plt.savefig(\"figures/paper/peter-iir.pdf\", bbox_inches=\"tight\")"
   ]
  },
  {
   "cell_type": "code",
   "execution_count": 484,
   "metadata": {},
   "outputs": [
    {
     "data": {
      "text/plain": [
       "Text(0, 0.5, 'Intra/inter ratio of \\n P(synapse | contact)')"
      ]
     },
     "execution_count": 484,
     "metadata": {},
     "output_type": "execute_result"
    },
    {
     "data": {
      "image/png": "[encoded data removed]",
      "text/plain": [
       "<Figure size 360x360 with 1 Axes>"
      ]
     },
     "metadata": {
      "needs_background": "light"
     },
     "output_type": "display_data"
    }
   ],
   "source": [
    "fig, ax = plt.subplots(1,1,figsize=(5,5))\n",
    "ax.plot([iir(m) for m in [\n",
    "                 syn_prob_block['sg']/center_syn_prob_pt_th2, \n",
    "                 syn_prob_block['sg']/center_syn_prob_pt_th5, \n",
    "                 syn_prob_block['sg']/center_syn_prob_pt_th10]], color='k', marker='o',\n",
    "                 markersize=14)\n",
    "ax.set_xticks(range(3))\n",
    "ax.set_xticklabels(ax.get_xticks(), rotation = 45)\n",
    "ax.set_xticklabels([\"true / 2μm\",\"true / 5μm\",\"true / 10μm\"], fontsize=22)\n",
    "ax.set_ylim([0,3])\n",
    "ax.set_ylabel(\"Intra/inter ratio of \\n P(synapse | contact)\", fontsize=22)\n",
    "# plt.savefig(\"figures/paper/peter-iir.pdf\", bbox_inches=\"tight\")"
   ]
  },
  {
   "cell_type": "code",
   "execution_count": 219,
   "metadata": {},
   "outputs": [
    {
     "data": {
      "text/plain": [
       "[29.092376681614347,\n",
       " 26.460617768793163,\n",
       " 21.798672633653265,\n",
       " 15.291446727822596]"
      ]
     },
     "execution_count": 219,
     "metadata": {},
     "output_type": "execute_result"
    }
   ],
   "source": [
    "[abd_s(m) for m in [syn_prob_abd['sg'], abd_rs_syn_prob_pt_th2, \n",
    "                 abd_rs_syn_prob_pt_th5, abd_rs_syn_prob_pt_th10]]"
   ]
  },
  {
   "cell_type": "code",
   "execution_count": 220,
   "metadata": {},
   "outputs": [
    {
     "data": {
      "text/plain": [
       "[3.6718460111317257,\n",
       " 1.7812653569592782,\n",
       " 1.4143755235069722,\n",
       " 1.2277995347921653]"
      ]
     },
     "execution_count": 220,
     "metadata": {},
     "output_type": "execute_result"
    }
   ],
   "source": [
    "[rs_s(m) for m in [syn_prob_abd['sg'], abd_rs_syn_prob_pt_th2, \n",
    "                 abd_rs_syn_prob_pt_th5, abd_rs_syn_prob_pt_th10]]"
   ]
  },
  {
   "cell_type": "code",
   "execution_count": 282,
   "metadata": {},
   "outputs": [
    {
     "data": {
      "image/png": "[encoded data removed]",
      "text/plain": [
       "<Figure size 252x360 with 2 Axes>"
      ]
     },
     "metadata": {
      "needs_background": "light"
     },
     "output_type": "display_data"
    }
   ],
   "source": [
    "fig, ax = plt.subplots(1,1,figsize=(3.5,5))\n",
    "ax.plot([abd_s(m) for m in [syn_prob_abd['sg'], abd_rs_syn_prob_pt_th2, \n",
    "                 abd_rs_syn_prob_pt_th5, abd_rs_syn_prob_pt_th10]], color='k', marker='o',\n",
    "                 markersize=14)\n",
    "ax2 = ax.twinx()\n",
    "ax2.plot([rs_s(m) for m in [syn_prob_abd['sg'], abd_rs_syn_prob_pt_th2, \n",
    "                 abd_rs_syn_prob_pt_th5, abd_rs_syn_prob_pt_th10]], '-.', color='teal', marker='^',\n",
    "                 markersize=14)\n",
    "ax.set_xticks(range(4))\n",
    "ax.set_ylim([0,29.9])\n",
    "ax2.set_ylim([0,3.9])\n",
    "ax.set_xticklabels([\"true\",\"2μm\",\"5μm\",\"10μm\"], fontsize=22)\n",
    "ax.set_ylabel(\"modO → ABD / modA → ABD\", fontsize=22)\n",
    "ax2.set_ylabel(\"modA → RS / modO → RS\", fontsize=22, color='teal')\n",
    "plt.savefig(\"figures/paper/peter-abd-rs.pdf\", bbox_inches=\"tight\")"
   ]
  },
  {
   "cell_type": "code",
   "execution_count": 222,
   "metadata": {},
   "outputs": [
    {
     "data": {
      "text/plain": [
       "[10.030303030303031,\n",
       " 3.3984684934034153,\n",
       " 2.1232746547706633,\n",
       " 1.4199164051227082]"
      ]
     },
     "execution_count": 222,
     "metadata": {},
     "output_type": "execute_result"
    }
   ],
   "source": [
    "[modO_s(m) for m in [syn_prob_abd['sg'], abd_rs_syn_prob_pt_th2, \n",
    "                 abd_rs_syn_prob_pt_th5, abd_rs_syn_prob_pt_th10]]"
   ]
  },
  {
   "cell_type": "code",
   "execution_count": 223,
   "metadata": {},
   "outputs": [
    {
     "data": {
      "text/plain": [
       "[10.649999999999999,\n",
       " 13.869006538321731,\n",
       " 14.520735199615794,\n",
       " 13.222490500838502]"
      ]
     },
     "execution_count": 223,
     "metadata": {},
     "output_type": "execute_result"
    }
   ],
   "source": [
    "[modA_s(m) for m in [syn_prob_abd['sg'], abd_rs_syn_prob_pt_th2, \n",
    "                 abd_rs_syn_prob_pt_th5, abd_rs_syn_prob_pt_th10]]"
   ]
  },
  {
   "cell_type": "code",
   "execution_count": 284,
   "metadata": {},
   "outputs": [
    {
     "data": {
      "image/png": "[encoded data removed]",
      "text/plain": [
       "<Figure size 252x360 with 2 Axes>"
      ]
     },
     "metadata": {
      "needs_background": "light"
     },
     "output_type": "display_data"
    }
   ],
   "source": [
    "fig, ax = plt.subplots(1,1,figsize=(3.5,5))\n",
    "ax.plot([modO_s(m) for m in [syn_prob_abd['sg'], abd_rs_syn_prob_pt_th2, \n",
    "                 abd_rs_syn_prob_pt_th5, abd_rs_syn_prob_pt_th10]], color='k', marker='o',\n",
    "                 markersize=14)\n",
    "ax2 = ax.twinx()\n",
    "ax2.plot([modA_s(m) for m in [syn_prob_abd['sg'], abd_rs_syn_prob_pt_th2, \n",
    "                 abd_rs_syn_prob_pt_th5, abd_rs_syn_prob_pt_th10]], '-.', color='teal', marker='^',\n",
    "                 markersize=14)\n",
    "ax.set_xticks(range(4))\n",
    "ax.set_ylim([0,10.7])\n",
    "ax2.set_ylim([0,14.95])\n",
    "ax.set_xticklabels([\"true\",\"2μm\",\"5μm\",\"10μm\"], fontsize=22)\n",
    "ax.set_ylabel(\"modO → ABD / modO → RS\", fontsize=22)\n",
    "ax2.set_ylabel(\"modA → RS / modA → ABD\", fontsize=22, color='teal')\n",
    "plt.savefig(\"figures/paper/peter-O-A.pdf\", bbox_inches=\"tight\")"
   ]
  },
  {
   "cell_type": "code",
   "execution_count": 287,
   "metadata": {},
   "outputs": [
    {
     "data": {
      "text/plain": [
       "417"
      ]
     },
     "execution_count": 287,
     "metadata": {},
     "output_type": "execute_result"
    }
   ],
   "source": [
    "max(g.get_in_degrees(g.get_vertices()))"
   ]
  },
  {
   "cell_type": "code",
   "execution_count": 351,
   "metadata": {},
   "outputs": [],
   "source": [
    "top1 = np.argsort(g.get_in_degrees(g.get_vertices(), eweight=g.ep[\"#synapses\"]))[::-1][:20]"
   ]
  },
  {
   "cell_type": "code",
   "execution_count": 352,
   "metadata": {},
   "outputs": [],
   "source": [
    "top2 = g.get_vertices()[np.argsort(g.get_in_degrees(g.get_vertices()))[::-1][:20]]"
   ]
  },
  {
   "cell_type": "code",
   "execution_count": 353,
   "metadata": {},
   "outputs": [
    {
     "data": {
      "text/plain": [
       "(PropertyArray([-1,  4, 14, 15], dtype=int32), array([ 3,  4,  3, 10]))"
      ]
     },
     "execution_count": 353,
     "metadata": {},
     "output_type": "execute_result"
    }
   ],
   "source": [
    "np.unique(g.vp[\"celltype\"].a[top1], return_counts=True)"
   ]
  },
  {
   "cell_type": "code",
   "execution_count": 354,
   "metadata": {},
   "outputs": [
    {
     "data": {
      "text/plain": [
       "(PropertyArray([-1,  4, 14, 15], dtype=int32), array([ 2,  3,  3, 12]))"
      ]
     },
     "execution_count": 354,
     "metadata": {},
     "output_type": "execute_result"
    }
   ],
   "source": [
    "np.unique(g.vp[\"celltype\"].a[top2], return_counts=True)"
   ]
  },
  {
   "cell_type": "code",
   "execution_count": 355,
   "metadata": {},
   "outputs": [
    {
     "data": {
      "text/plain": [
       "32"
      ]
     },
     "execution_count": 355,
     "metadata": {},
     "output_type": "execute_result"
    }
   ],
   "source": [
    "sum(g.vp[\"celltype\"].a==14)"
   ]
  },
  {
   "cell_type": "code",
   "execution_count": 356,
   "metadata": {},
   "outputs": [
    {
     "data": {
      "text/plain": [
       "22"
      ]
     },
     "execution_count": 356,
     "metadata": {},
     "output_type": "execute_result"
    }
   ],
   "source": [
    "sum(g.vp[\"celltype\"].a==15)"
   ]
  },
  {
   "cell_type": "code",
   "execution_count": 357,
   "metadata": {},
   "outputs": [
    {
     "data": {
      "text/plain": [
       "35"
      ]
     },
     "execution_count": 357,
     "metadata": {},
     "output_type": "execute_result"
    }
   ],
   "source": [
    "sum(g.vp[\"celltype\"].a==5)"
   ]
  },
  {
   "cell_type": "code",
   "execution_count": 417,
   "metadata": {},
   "outputs": [],
   "source": [
    "intra_con = np.random.poisson(lam=10, size=1000)\n",
    "inter_con = np.random.poisson(lam=5, size=1000)"
   ]
  },
  {
   "cell_type": "code",
   "execution_count": 418,
   "metadata": {},
   "outputs": [
    {
     "data": {
      "text/plain": [
       "1.9801642957323182"
      ]
     },
     "execution_count": 418,
     "metadata": {},
     "output_type": "execute_result"
    }
   ],
   "source": [
    "sum(intra_con) / sum(inter_con)"
   ]
  },
  {
   "cell_type": "code",
   "execution_count": 465,
   "metadata": {},
   "outputs": [],
   "source": [
    "intra_syn = np.array([np.random.binomial(n=con, p=0.1, size=1) for con in intra_con]).T[0]\n",
    "inter_syn = np.array([np.random.binomial(n=con, p=0.1, size=1) for con in inter_con]).T[0]"
   ]
  },
  {
   "cell_type": "code",
   "execution_count": 466,
   "metadata": {},
   "outputs": [
    {
     "data": {
      "text/plain": [
       "2.0261569416498992"
      ]
     },
     "execution_count": 466,
     "metadata": {},
     "output_type": "execute_result"
    }
   ],
   "source": [
    "sum(intra_syn) / sum(inter_syn)"
   ]
  },
  {
   "cell_type": "code",
   "execution_count": 467,
   "metadata": {},
   "outputs": [
    {
     "data": {
      "text/plain": [
       "1.228956228956229"
      ]
     },
     "execution_count": 467,
     "metadata": {},
     "output_type": "execute_result"
    }
   ],
   "source": [
    "sum(intra_syn[intra_syn==1]) / sum(inter_syn[inter_syn==1])"
   ]
  },
  {
   "cell_type": "code",
   "execution_count": 468,
   "metadata": {},
   "outputs": [
    {
     "data": {
      "text/plain": [
       "3.21"
      ]
     },
     "execution_count": 468,
     "metadata": {},
     "output_type": "execute_result"
    }
   ],
   "source": [
    "sum(intra_syn[intra_syn>=2]) / sum(inter_syn[inter_syn>=2])"
   ]
  },
  {
   "cell_type": "code",
   "execution_count": 428,
   "metadata": {},
   "outputs": [
    {
     "data": {
      "text/plain": [
       "373"
      ]
     },
     "execution_count": 428,
     "metadata": {},
     "output_type": "execute_result"
    }
   ],
   "source": [
    "len(intra_syn[intra_syn==1])"
   ]
  },
  {
   "cell_type": "code",
   "execution_count": 429,
   "metadata": {},
   "outputs": [
    {
     "data": {
      "text/plain": [
       "1.2130613194252668"
      ]
     },
     "execution_count": 429,
     "metadata": {},
     "output_type": "execute_result"
    }
   ],
   "source": [
    "2*np.exp(-5*0.1)"
   ]
  },
  {
   "cell_type": "code",
   "execution_count": 430,
   "metadata": {},
   "outputs": [
    {
     "data": {
      "text/plain": [
       "2.9293721686476006"
      ]
     },
     "execution_count": 430,
     "metadata": {},
     "output_type": "execute_result"
    }
   ],
   "source": [
    "a = 10\n",
    "b = 5\n",
    "p = 0.1\n",
    "(1 - (1 + a*p) * np.exp(-a*p)) / (1 - (1 + b*p) * np.exp(-b*p))"
   ]
  },
  {
   "cell_type": "code",
   "execution_count": 458,
   "metadata": {},
   "outputs": [
    {
     "data": {
      "text/plain": [
       "1.2130613194252668"
      ]
     },
     "execution_count": 458,
     "metadata": {},
     "output_type": "execute_result"
    }
   ],
   "source": [
    "(a*p * np.exp(-a*p)) / (b*p * np.exp(-b*p))"
   ]
  },
  {
   "cell_type": "code",
   "execution_count": 459,
   "metadata": {},
   "outputs": [
    {
     "data": {
      "text/plain": [
       "3.213061319425267"
      ]
     },
     "execution_count": 459,
     "metadata": {},
     "output_type": "execute_result"
    }
   ],
   "source": [
    "(a*p * (1-np.exp(-a*p))) / (b*p * (1-np.exp(-b*p)))"
   ]
  },
  {
   "cell_type": "code",
   "execution_count": null,
   "metadata": {},
   "outputs": [],
   "source": []
  }
 ],
 "metadata": {
  "kernelspec": {
   "display_name": "playground",
   "language": "python",
   "name": "myenv"
  },
  "language_info": {
   "codemirror_mode": {
    "name": "ipython",
    "version": 3
   },
   "file_extension": ".py",
   "mimetype": "text/x-python",
   "name": "python",
   "nbconvert_exporter": "python",
   "pygments_lexer": "ipython3",
   "version": "3.7.1"
  }
 },
 "nbformat": 4,
 "nbformat_minor": 4
}
